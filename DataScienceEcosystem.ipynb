{
 "cells": [
  {
   "cell_type": "markdown",
   "metadata": {},
   "source": [
    "<center>\n",
    "    <img src=\"https://cf-courses-data.s3.us.cloud-object-storage.appdomain.cloud/IBMDeveloperSkillsNetwork-DS0105EN-SkillsNetwork/labs/Module2/images/SN_web_lightmode.png\" width=\"300\" alt=\"cognitiveclass.ai logo\">\n",
    "</center>\n"
   ]
  },
  {
   "cell_type": "markdown",
   "metadata": {},
   "source": [
    "#### Add your code below following the instructions given in the course\n"
   ]
  },
  {
   "cell_type": "markdown",
   "metadata": {
    "tags": []
   },
   "source": [
    "# Data Science Tools and Ecosystem"
   ]
  },
  {
   "cell_type": "markdown",
   "metadata": {},
   "source": [
    "## In this notebook, Data Science Tools and Ecosystem are summarized."
   ]
  },
  {
   "cell_type": "markdown",
   "metadata": {},
   "source": [
    "### Objectives:\n",
    "\n",
    "* List popular languages for data science\n",
    "* List popular libraries for data science\n",
    "* List development environment open source tools\n",
    "* Practice creating a table\n",
    "* Practice writing code for simple arithmetic expressions"
   ]
  },
  {
   "cell_type": "markdown",
   "metadata": {},
   "source": [
    "### Some of the most popular languages that Data Scientists use are:"
   ]
  },
  {
   "cell_type": "markdown",
   "metadata": {},
   "source": [
    "1. Python\n",
    "2. R\n",
    "3. SQL"
   ]
  },
  {
   "cell_type": "markdown",
   "metadata": {},
   "source": [
    "### Other common (but more specialized) languages that Data Scientists use are:\n",
    "1. Scala\n",
    "2. Java\n",
    "3. C++ \n",
    "4. Julia\n",
    "5. JS (javascript)\n",
    "6. php\n",
    "7. go\n",
    "8. Visual Basic\n",
    "9. Ruby"
   ]
  },
  {
   "cell_type": "markdown",
   "metadata": {},
   "source": [
    "### Some of the commonly used libraries used by Data Scientists include:\n",
    "1. **Pandas** - tools for effective data cleaning, manipulation, and analysis\n",
    "2. **NumPy** - allows you to apply mathematical functions to arrays/matrices\n",
    "3. **Matplotlib** - a visualization library in Python for making plots and graphs\n",
    "4. **Seaborn**  - a visualization library based on Matplotlib, for making heat maps, time series, and violin plots\n",
    "5. **Scikit-learn** - a high level library for getting started with machine learning\n",
    "6. **Keras** - a high level library for getting started with machine learning and deep learning models\n",
    "7. **TensorFlow** - a low-level framework for deep-learning models, designed for Production and Deployment\n",
    "8. **PyTorch** - a deep learning library made for experimentation/research with regression and classification models\n",
    "9. **ApacheSpark** - a general purpose cluster-computing framework\n",
    "\n",
    "#### The above libraries are generally in Python language. Data Science libraries in other languages include:\n",
    "##### Scala language: \n",
    "1. **VEGAS** - for statistical data visualization\n",
    "2. **Big DL** - for deep learning\n",
    "\n",
    "##### R language\n",
    "1. **ggplot2** - for data visualization in R\n",
    "\n",
    "    \n"
   ]
  },
  {
   "cell_type": "markdown",
   "metadata": {},
   "source": [
    "## Development Environment Open Source Tools\n",
    "\n",
    "| Data Science Tools |\n",
    "| -------------|\n",
    "| JupyterLab |\n",
    "| Anaconda|\n",
    "| Visual Studio Code |"
   ]
  },
  {
   "cell_type": "markdown",
   "metadata": {},
   "source": [
    "### Below are a few examples of evaluating arithmetic expressions in Python"
   ]
  },
  {
   "cell_type": "code",
   "execution_count": 1,
   "metadata": {
    "tags": []
   },
   "outputs": [
    {
     "data": {
      "text/plain": [
       "17"
      ]
     },
     "execution_count": 1,
     "metadata": {},
     "output_type": "execute_result"
    }
   ],
   "source": [
    "# This is a simple arithmetic expression to mutiply then add integers\n",
    "\n",
    "(3*4)+5"
   ]
  },
  {
   "cell_type": "code",
   "execution_count": 2,
   "metadata": {
    "tags": []
   },
   "outputs": [
    {
     "data": {
      "text/plain": [
       "3.3333333333333335"
      ]
     },
     "execution_count": 2,
     "metadata": {},
     "output_type": "execute_result"
    }
   ],
   "source": [
    "# This will convert 200 minutes to hours by diving by 60\n",
    "\n",
    "200/60"
   ]
  },
  {
   "cell_type": "markdown",
   "metadata": {},
   "source": [
    "## Author\n",
    "Monali Teja Varaiya"
   ]
  },
  {
   "cell_type": "code",
   "execution_count": null,
   "metadata": {},
   "outputs": [],
   "source": []
  }
 ],
 "metadata": {
  "kernelspec": {
   "display_name": "Python",
   "language": "python",
   "name": "conda-env-python-py"
  },
  "language_info": {
   "codemirror_mode": {
    "name": "ipython",
    "version": 3
   },
   "file_extension": ".py",
   "mimetype": "text/x-python",
   "name": "python",
   "nbconvert_exporter": "python",
   "pygments_lexer": "ipython3",
   "version": "3.7.12"
  }
 },
 "nbformat": 4,
 "nbformat_minor": 4
}
